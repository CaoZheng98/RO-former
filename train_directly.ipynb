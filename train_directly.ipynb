{
 "cells": [
  {
   "cell_type": "code",
   "id": "initial_id",
   "metadata": {
    "collapsed": true,
    "ExecuteTime": {
     "end_time": "2025-05-18T11:42:28.675443Z",
     "start_time": "2025-05-18T11:42:26.822720Z"
    }
   },
   "source": [
    "from utils.set_seed import set_seed\n",
    "# from pretrain import saving_root\n",
    "# 设置随机种子\n",
    "seed = 42\n",
    "set_seed(seed)"
   ],
   "outputs": [],
   "execution_count": 1
  },
  {
   "metadata": {
    "ExecuteTime": {
     "end_time": "2025-05-18T11:42:29.398187Z",
     "start_time": "2025-05-18T11:42:28.678467Z"
    }
   },
   "cell_type": "code",
   "source": [
    "from models.transformer.transformer import Transformer\n",
    "import torch\n",
    "max_len = 2000\n",
    "pad_idx = 1\n",
    "d_model = 64\n",
    "device = torch.device('cuda' if torch.cuda.is_available() else 'cpu')\n",
    "model = Transformer(src_len_max = max_len,trg_len_max=max_len, src_pad_idx = pad_idx, trg_pad_idx=pad_idx, d_src=1, d_trg=1, d_model=d_model, trg_size=1).to(device)"
   ],
   "id": "ffa9e5b647fe3aba",
   "outputs": [],
   "execution_count": 2
  },
  {
   "metadata": {
    "ExecuteTime": {
     "end_time": "2025-05-18T11:42:50.664770Z",
     "start_time": "2025-05-18T11:42:29.448525Z"
    }
   },
   "cell_type": "code",
   "source": [
    "#DATASET INCLUDE ALL DATA\n",
    "from data.dataset import DT_Dataset_all\n",
    "from torch.utils.data import DataLoader\n",
    "from utils.collate_fn import collate_fn\n",
    "# outfall_names = ['DCHTLN', 'DCHWSC', 'HMGDX', 'HMGSM', 'HMGWS', 'JBHDT', 'JBHWZ', 'JHHHHC', 'JHHXY', 'JLH',\n",
    "#                  'WFG',\n",
    "#                  'XFG']\n",
    "# 图3.2  率定图（从左上至右下依次为东城河污水处理厂、界洪河新阳路（界洪河下游）、界洪河荷花池排口（界洪河上游）、东城河铁路南、界亳河汪庄、幸福沟中段排口）\n",
    "# _________dataset________\n",
    "out_fall_name = 'XFG'\n",
    "max_patience = 12\n",
    "batch_size = 100\n",
    "ds_train = DT_Dataset_all(outfall_name = out_fall_name,max_patience=max_patience)\n",
    "train_loader = DataLoader(dataset=ds_train, batch_size=batch_size, shuffle=False,collate_fn=collate_fn)\n",
    "ds_val = DT_Dataset_all(outfall_name = out_fall_name,max_patience=max_patience,type='val')\n",
    "val_loader = DataLoader(dataset=ds_val, batch_size=batch_size, shuffle=False,collate_fn=collate_fn)"
   ],
   "id": "80c00c182c0ca542",
   "outputs": [
    {
     "name": "stdout",
     "output_type": "stream",
     "text": [
      "流量恢复超时: 13步未恢复\n",
      "流量恢复超时: 13步未恢复\n",
      "流量恢复超时: 13步未恢复\n",
      "流量恢复超时: 13步未恢复\n",
      "流量恢复超时: 13步未恢复\n",
      "流量恢复超时: 13步未恢复\n",
      "流量恢复超时: 13步未恢复\n",
      "流量恢复超时: 13步未恢复\n",
      "流量恢复超时: 13步未恢复\n",
      "流量恢复超时: 13步未恢复\n",
      "流量恢复超时: 13步未恢复\n",
      "流量恢复超时: 13步未恢复\n",
      "流量恢复超时: 13步未恢复\n",
      "流量恢复超时: 13步未恢复\n",
      "流量恢复超时: 13步未恢复\n",
      "流量恢复超时: 13步未恢复\n",
      "流量恢复超时: 13步未恢复\n",
      "流量恢复超时: 13步未恢复\n"
     ]
    }
   ],
   "execution_count": 3
  },
  {
   "metadata": {
    "jupyter": {
     "is_executing": true
    },
    "ExecuteTime": {
     "start_time": "2025-05-18T14:56:01.156715Z"
    }
   },
   "cell_type": "code",
   "source": [
    "from utils.train_full import train_full\n",
    "from pathlib import Path\n",
    "from torch import nn\n",
    "from utils.metrics import loss_func_nse,loss_func_NZ\n",
    "from utils.lr_strategies import SchedulerFactory\n",
    "loss_func = loss_func_NZ\n",
    "bos_len = 3\n",
    "learning_rate = 1e-3\n",
    "n_epochs = 2000\n",
    "Rainfall_intensity = 'NONE'\n",
    "saving_root = Path(\"./runs\") / f'TD_ml_{max_len}_padidx_{pad_idx}_bos_len_{bos_len}_lr_{learning_rate}_epochs_{n_epochs}_d_model_{d_model}_of_{out_fall_name}_RI_{Rainfall_intensity}_LF_{loss_func.__name__}_DATASET_f'\n",
    "# 如果有多个 GPU，使用 DataParallel 包装模型\n",
    "if torch.cuda.device_count() > 1:\n",
    "    print(f\"Using {torch.cuda.device_count()} GPUs\")\n",
    "    model = nn.DataParallel(model)\n",
    "optimizer = torch.optim.Adam(model.parameters(), lr=learning_rate)\n",
    "scheduler_paras = {\"scheduler_type\": \"warm_up\", \"warm_up_epochs\": n_epochs * 0.25, \"decay_rate\":0.999}\n",
    "scheduler = SchedulerFactory.get_scheduler(optimizer, **scheduler_paras)\n",
    "train_full(model, train_loader, val_loader, optimizer,bos_len,scheduler, loss_func, n_epochs, device, saving_root)"
   ],
   "id": "7d3e1084271fc21a",
   "outputs": [
    {
     "name": "stdout",
     "output_type": "stream",
     "text": [
      "Parameters count:232513\n",
      "Training progress: 0 / 2000\n",
      "Image saved as TD_ml_2000_padidx_1_bos_len_3_lr_0.001_epochs_2000_d_model_64_of_XFG_RI_NONE_LF_loss_func_NZ_DATASET_f\\ground_truth_vs_pred0_5254.png\n",
      "Training progress: 1 / 2000\n",
      "Image saved as TD_ml_2000_padidx_1_bos_len_3_lr_0.001_epochs_2000_d_model_64_of_XFG_RI_NONE_LF_loss_func_NZ_DATASET_f\\ground_truth_vs_pred0_5255.png\n",
      "Training progress: 2 / 2000\n",
      "Image saved as TD_ml_2000_padidx_1_bos_len_3_lr_0.001_epochs_2000_d_model_64_of_XFG_RI_NONE_LF_loss_func_NZ_DATASET_f\\ground_truth_vs_pred0_5256.png\n",
      "Training progress: 3 / 2000\n",
      "Image saved as TD_ml_2000_padidx_1_bos_len_3_lr_0.001_epochs_2000_d_model_64_of_XFG_RI_NONE_LF_loss_func_NZ_DATASET_f\\ground_truth_vs_pred0_5257.png\n",
      "Training progress: 4 / 2000\n"
     ]
    }
   ],
   "execution_count": null
  },
  {
   "metadata": {},
   "cell_type": "code",
   "outputs": [],
   "execution_count": null,
   "source": "",
   "id": "d0790c1ca386ed95"
  }
 ],
 "metadata": {
  "kernelspec": {
   "display_name": "Python 3",
   "language": "python",
   "name": "python3"
  },
  "language_info": {
   "codemirror_mode": {
    "name": "ipython",
    "version": 2
   },
   "file_extension": ".py",
   "mimetype": "text/x-python",
   "name": "python",
   "nbconvert_exporter": "python",
   "pygments_lexer": "ipython2",
   "version": "2.7.6"
  }
 },
 "nbformat": 4,
 "nbformat_minor": 5
}
