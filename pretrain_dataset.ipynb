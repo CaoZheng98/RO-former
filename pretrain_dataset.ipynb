{
 "cells": [
  {
   "cell_type": "code",
   "id": "initial_id",
   "metadata": {
    "collapsed": true,
    "ExecuteTime": {
     "end_time": "2025-05-13T14:22:32.043980Z",
     "start_time": "2025-05-13T14:22:28.200979Z"
    }
   },
   "source": [
    "import pickle\n",
    "file0 = './data/swmm/outfall_train_enhance_0.pkl'\n",
    "file1 = './data/swmm/outfall_train_enhance_0_1.pkl'\n",
    "file2 = './data/swmm/outfall_train_enhance_1.pkl'\n",
    "file3 = './data/swmm/outfall_train_enhance_1_1.pkl'\n",
    "file4 = './data/swmm/outfall_train_enhance_2.pkl'\n",
    "# 使用 'rb' 模式加载数据\n",
    "with open(file0, 'rb') as file:\n",
    "    pretrain0 = pickle.load(file)\n",
    "with open(file1, 'rb') as file:\n",
    "    pretrain1 = pickle.load(file)\n",
    "with open(file2, 'rb') as file:\n",
    "    pretrain2 = pickle.load(file)\n",
    "with open(file3, 'rb') as file:\n",
    "    pretrain3 = pickle.load(file)\n",
    "with open(file4, 'rb') as file:\n",
    "    pretrain4 = pickle.load(file)\n",
    "pretrain_outfall = []\n",
    "pretrain_outfall.extend(pretrain0)\n",
    "pretrain_outfall.extend(pretrain1)\n",
    "pretrain_outfall.extend(pretrain2)\n",
    "pretrain_outfall.extend(pretrain3)\n",
    "pretrain_outfall.extend(pretrain4)"
   ],
   "outputs": [],
   "execution_count": 1
  },
  {
   "metadata": {
    "ExecuteTime": {
     "end_time": "2025-05-13T14:22:32.390141Z",
     "start_time": "2025-05-13T14:22:32.048017Z"
    }
   },
   "cell_type": "code",
   "source": [
    "import json\n",
    "with open('./data/swmm/rainfall_samples_enhance_multi.json', 'r') as f:\n",
    "    rainfall_samples = json.load(f)\n",
    "    pretrain_rainfall = []\n",
    "    for sample in rainfall_samples[\"train_sample\"]:\n",
    "        x = [row[0] for row in sample[\"rainfall\"]]\n",
    "        y = [row[1] for row in sample[\"rainfall\"]]\n",
    "        pretrain_rainfall.append((x,y))"
   ],
   "id": "83d998ce218b5453",
   "outputs": [],
   "execution_count": 2
  },
  {
   "metadata": {
    "ExecuteTime": {
     "end_time": "2025-05-13T14:47:24.303592Z",
     "start_time": "2025-05-13T14:47:21.187003Z"
    }
   },
   "cell_type": "code",
   "source": [
    "import pickle\n",
    "import os\n",
    "\n",
    "# 定义两个列表\n",
    "list1 = pretrain_outfall\n",
    "list2 = pretrain_rainfall\n",
    "\n",
    "# 打包两个列表\n",
    "data_to_save = {'pretrain_outfall':list1[0:7500], 'pretrain_rainfall':list2[0:7500]} # 使用元组打包\n",
    "\n",
    "# 指定保存路径\n",
    "saving_path = './data/swmm/pretrain_data_train.pkl'\n",
    "\n",
    "# 确保保存路径的目录存在\n",
    "os.makedirs(os.path.dirname(saving_path), exist_ok=True)\n",
    "\n",
    "# 使用 'wb' 模式保存数据\n",
    "with open(saving_path, 'wb') as file:\n",
    "    pickle.dump(data_to_save, file)\n",
    "\n",
    "print(f\"Data saved successfully to {saving_path}\")"
   ],
   "id": "7313189250a27be0",
   "outputs": [
    {
     "name": "stdout",
     "output_type": "stream",
     "text": [
      "Data saved successfully to ./data/swmm/pretrain_data_train.pkl\n"
     ]
    }
   ],
   "execution_count": 23
  },
  {
   "metadata": {
    "ExecuteTime": {
     "end_time": "2025-05-13T14:47:29.031222Z",
     "start_time": "2025-05-13T14:47:25.607782Z"
    }
   },
   "cell_type": "code",
   "source": [
    "pretrain_data_path = './data/swmm/pretrain_data_train.pkl'\n",
    "with open(pretrain_data_path, 'rb') as file:\n",
    "    pretrain_data = pickle.load(file)"
   ],
   "id": "98fa5da63d4dcd0d",
   "outputs": [],
   "execution_count": 24
  },
  {
   "metadata": {
    "ExecuteTime": {
     "end_time": "2025-05-13T14:48:32.558102Z",
     "start_time": "2025-05-13T14:48:31.399540Z"
    }
   },
   "cell_type": "code",
   "source": [
    "import pickle\n",
    "import os\n",
    "\n",
    "# 定义两个列表\n",
    "list1 = pretrain_outfall\n",
    "list2 = pretrain_rainfall\n",
    "\n",
    "# 打包两个列表\n",
    "data_to_save = {'pretrain_outfall':list1[7500:10000], 'pretrain_rainfall':list2[7500:10000]} # 使用元组打包\n",
    "\n",
    "# 指定保存路径\n",
    "saving_path = './data/swmm/pretrain_data_val.pkl'\n",
    "\n",
    "# 确保保存路径的目录存在\n",
    "os.makedirs(os.path.dirname(saving_path), exist_ok=True)\n",
    "\n",
    "# 使用 'wb' 模式保存数据\n",
    "with open(saving_path, 'wb') as file:\n",
    "    pickle.dump(data_to_save, file)\n",
    "\n",
    "print(f\"Data saved successfully to {saving_path}\")"
   ],
   "id": "2f464f2d22d9ac32",
   "outputs": [
    {
     "name": "stdout",
     "output_type": "stream",
     "text": [
      "Data saved successfully to ./data/swmm/pretrain_data_val.pkl\n"
     ]
    }
   ],
   "execution_count": 25
  },
  {
   "metadata": {
    "ExecuteTime": {
     "end_time": "2025-05-13T14:48:45.015482Z",
     "start_time": "2025-05-13T14:48:44.084149Z"
    }
   },
   "cell_type": "code",
   "source": [
    "pretrain_data_path = './data/swmm/pretrain_data_val.pkl'\n",
    "with open(pretrain_data_path, 'rb') as file:\n",
    "    pretrain_data_val = pickle.load(file)"
   ],
   "id": "fa024695fe8b11d1",
   "outputs": [],
   "execution_count": 27
  },
  {
   "metadata": {
    "ExecuteTime": {
     "end_time": "2025-05-13T14:41:02.117671Z",
     "start_time": "2025-05-13T14:41:02.114670Z"
    }
   },
   "cell_type": "code",
   "source": "",
   "id": "712d36b1fae979e2",
   "outputs": [],
   "execution_count": 18
  },
  {
   "metadata": {},
   "cell_type": "code",
   "outputs": [],
   "execution_count": null,
   "source": "",
   "id": "dde902e1cbf172e9"
  }
 ],
 "metadata": {
  "kernelspec": {
   "display_name": "Python 3",
   "language": "python",
   "name": "python3"
  },
  "language_info": {
   "codemirror_mode": {
    "name": "ipython",
    "version": 2
   },
   "file_extension": ".py",
   "mimetype": "text/x-python",
   "name": "python",
   "nbconvert_exporter": "python",
   "pygments_lexer": "ipython2",
   "version": "2.7.6"
  }
 },
 "nbformat": 4,
 "nbformat_minor": 5
}
